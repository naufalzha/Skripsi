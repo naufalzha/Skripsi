{
  "nbformat": 4,
  "nbformat_minor": 0,
  "metadata": {
    "colab": {
      "name": "[Modelling Notebook] PPKM.ipynb",
      "provenance": [],
      "toc_visible": true
    },
    "kernelspec": {
      "name": "python3",
      "display_name": "Python 3"
    },
    "language_info": {
      "name": "python"
    }
  },
  "cells": [
    {
      "cell_type": "code",
      "execution_count": 5,
      "metadata": {
        "colab": {
          "base_uri": "https://localhost:8080/"
        },
        "id": "yxbCJrQwRyAG",
        "outputId": "440c405c-1f0c-42f1-ff57-567c532ae21e"
      },
      "outputs": [
        {
          "output_type": "execute_result",
          "data": {
            "text/plain": [
              "-1.1544036484112792"
            ]
          },
          "metadata": {},
          "execution_count": 5
        }
      ],
      "source": [
        "from sklearn.feature_extraction.text import TfidfVectorizer\n",
        "from sklearn.preprocessing import LabelEncoder\n",
        "import itertools\n",
        "import pandas as pd\n",
        "import numpy as np \n",
        "from math import log, exp\n",
        "log(0.315245478)"
      ]
    },
    {
      "cell_type": "code",
      "source": [
        "from google.colab import drive\n",
        "#Menyambungkan Ke drive\n",
        "drive.mount('/content/gdrive')"
      ],
      "metadata": {
        "colab": {
          "base_uri": "https://localhost:8080/"
        },
        "id": "C2G3Set7R117",
        "outputId": "e8b88034-7bd5-4b2c-d948-e415c585ca8f"
      },
      "execution_count": 2,
      "outputs": [
        {
          "output_type": "stream",
          "name": "stdout",
          "text": [
            "Mounted at /content/gdrive\n"
          ]
        }
      ]
    },
    {
      "cell_type": "code",
      "source": [
        "##SEED\n",
        "SEED = 2022"
      ],
      "metadata": {
        "id": "pKfsEB6MSFRQ"
      },
      "execution_count": 3,
      "outputs": []
    },
    {
      "cell_type": "code",
      "source": [
        "data_normal = pd.read_csv('/content/gdrive/MyDrive/Skripsi/Data/data_normalized+Stopword.csv')"
      ],
      "metadata": {
        "id": "yhQhcpuISJTR"
      },
      "execution_count": 6,
      "outputs": []
    },
    {
      "cell_type": "markdown",
      "source": [
        "# TFIDF"
      ],
      "metadata": {
        "id": "35xvBFLGTOaO"
      }
    },
    {
      "cell_type": "code",
      "source": [
        "texts = np.array(data_normal['steaming']) #text contents in dataframe to array for processing\n",
        "vocab_length = len(list(itertools.chain.from_iterable(texts)))\n",
        "print(len(texts))\n",
        "print(vocab_length)"
      ],
      "metadata": {
        "colab": {
          "base_uri": "https://localhost:8080/"
        },
        "id": "JpgN97LKSVuf",
        "outputId": "798e0336-d44d-4b13-8b68-1a3875116bca"
      },
      "execution_count": 8,
      "outputs": [
        {
          "output_type": "stream",
          "name": "stdout",
          "text": [
            "4354\n",
            "730005\n"
          ]
        }
      ]
    },
    {
      "cell_type": "code",
      "source": [
        "vectorize = TfidfVectorizer(use_idf=True)\n",
        "response = vectorize.fit_transform(texts)\n",
        "print(response)"
      ],
      "metadata": {
        "colab": {
          "base_uri": "https://localhost:8080/"
        },
        "id": "35N0pAO4SptN",
        "outputId": "74182a46-c0d2-4710-e6bf-1eff4b5fb91d"
      },
      "execution_count": 9,
      "outputs": [
        {
          "output_type": "stream",
          "name": "stdout",
          "text": [
            "  (0, 6550)\t0.5515881726917298\n",
            "  (0, 3315)\t0.48605481069643547\n",
            "  (0, 5369)\t0.4774046469838137\n",
            "  (0, 5397)\t0.4481755283099634\n",
            "  (0, 5499)\t0.09581898118191344\n",
            "  (0, 6158)\t0.14677680488774894\n",
            "  (1, 5617)\t0.2905167792283078\n",
            "  (1, 746)\t0.2905167792283078\n",
            "  (1, 5748)\t0.16187517809889895\n",
            "  (1, 5107)\t0.3096171979356194\n",
            "  (1, 6931)\t0.3247780531781103\n",
            "  (1, 5201)\t0.22478823960321995\n",
            "  (1, 1477)\t0.08810175118568828\n",
            "  (1, 4204)\t0.13123524212055485\n",
            "  (1, 3338)\t0.1808161455207488\n",
            "  (1, 2274)\t0.2447582619178855\n",
            "  (1, 4194)\t0.37463300594588034\n",
            "  (1, 475)\t0.16898114972389938\n",
            "  (1, 6427)\t0.3247780531781103\n",
            "  (1, 3150)\t0.27294274673094415\n",
            "  (1, 1253)\t0.12538092613348356\n",
            "  (1, 6354)\t0.1746003921208206\n",
            "  (1, 1111)\t0.18546964513337555\n",
            "  (1, 5499)\t0.04251811125387342\n",
            "  (1, 6158)\t0.06512981501919116\n",
            "  :\t:\n",
            "  (4352, 4204)\t0.11992439879006982\n",
            "  (4352, 5499)\t0.03885357962860376\n",
            "  (4353, 7000)\t0.27293057289290434\n",
            "  (4353, 6562)\t0.2500839093693134\n",
            "  (4353, 242)\t0.24060168727361703\n",
            "  (4353, 3327)\t0.4355100475000521\n",
            "  (4353, 7382)\t0.2367194679414188\n",
            "  (4353, 4886)\t0.2120907072721399\n",
            "  (4353, 7224)\t0.24060168727361703\n",
            "  (4353, 3924)\t0.2450029845488429\n",
            "  (4353, 6991)\t0.15669902117008583\n",
            "  (4353, 2693)\t0.21040004088734385\n",
            "  (4353, 965)\t0.13047668039582544\n",
            "  (4353, 4180)\t0.21387280441782786\n",
            "  (4353, 6245)\t0.11942799311711524\n",
            "  (4353, 6552)\t0.1776616994663423\n",
            "  (4353, 1747)\t0.16119277507863136\n",
            "  (4353, 5223)\t0.1439872895495851\n",
            "  (4353, 1341)\t0.08514999526221441\n",
            "  (4353, 7533)\t0.33635895474129185\n",
            "  (4353, 5087)\t0.13585059175135858\n",
            "  (4353, 7861)\t0.07916512511154507\n",
            "  (4353, 1370)\t0.08559541782673384\n",
            "  (4353, 613)\t0.13602271103629895\n",
            "  (4353, 5499)\t0.0374801288178343\n"
          ]
        }
      ]
    },
    {
      "cell_type": "code",
      "source": [
        "response.shape"
      ],
      "metadata": {
        "colab": {
          "base_uri": "https://localhost:8080/"
        },
        "id": "bTCk8tpsSwVQ",
        "outputId": "c4dfc168-bd7f-4bf2-c865-cc5c7410193d"
      },
      "execution_count": 10,
      "outputs": [
        {
          "output_type": "execute_result",
          "data": {
            "text/plain": [
              "(4354, 7933)"
            ]
          },
          "metadata": {},
          "execution_count": 10
        }
      ]
    },
    {
      "cell_type": "code",
      "source": [
        "feature_names = vectorize.get_feature_names()\n",
        "print(len(feature_names))\n",
        "print(response.todense())"
      ],
      "metadata": {
        "colab": {
          "base_uri": "https://localhost:8080/"
        },
        "id": "h3C2BDs7Sx9O",
        "outputId": "e17ce5db-6625-44fd-a338-3f8b1bffbfbe"
      },
      "execution_count": 11,
      "outputs": [
        {
          "output_type": "stream",
          "name": "stderr",
          "text": [
            "/usr/local/lib/python3.7/dist-packages/sklearn/utils/deprecation.py:87: FutureWarning: Function get_feature_names is deprecated; get_feature_names is deprecated in 1.0 and will be removed in 1.2. Please use get_feature_names_out instead.\n",
            "  warnings.warn(msg, category=FutureWarning)\n"
          ]
        },
        {
          "output_type": "stream",
          "name": "stdout",
          "text": [
            "7933\n",
            "[[0. 0. 0. ... 0. 0. 0.]\n",
            " [0. 0. 0. ... 0. 0. 0.]\n",
            " [0. 0. 0. ... 0. 0. 0.]\n",
            " ...\n",
            " [0. 0. 0. ... 0. 0. 0.]\n",
            " [0. 0. 0. ... 0. 0. 0.]\n",
            " [0. 0. 0. ... 0. 0. 0.]]\n"
          ]
        }
      ]
    },
    {
      "cell_type": "code",
      "source": [
        "frame_tfidf = pd.DataFrame(response.todense().T,\n",
        "                           index = vectorize.get_feature_names(),\n",
        "                           columns= [f'D{ i + 1}' for i in range(len(texts))])"
      ],
      "metadata": {
        "colab": {
          "base_uri": "https://localhost:8080/"
        },
        "id": "Z8f6LA6yS1Tz",
        "outputId": "743bd8d4-a536-4aa2-886d-a7bb7e2273b7"
      },
      "execution_count": 12,
      "outputs": [
        {
          "output_type": "stream",
          "name": "stderr",
          "text": [
            "/usr/local/lib/python3.7/dist-packages/sklearn/utils/deprecation.py:87: FutureWarning: Function get_feature_names is deprecated; get_feature_names is deprecated in 1.0 and will be removed in 1.2. Please use get_feature_names_out instead.\n",
            "  warnings.warn(msg, category=FutureWarning)\n"
          ]
        }
      ]
    },
    {
      "cell_type": "code",
      "source": [
        "frame_tfidf"
      ],
      "metadata": {
        "colab": {
          "base_uri": "https://localhost:8080/",
          "height": 424
        },
        "id": "1-8ch7GoS7ut",
        "outputId": "d7d07cd2-01ca-4e27-a499-25315617cefa"
      },
      "execution_count": 13,
      "outputs": [
        {
          "output_type": "execute_result",
          "data": {
            "text/plain": [
              "             D1   D2   D3   D4   D5   D6   D7   D8   D9  D10  ...  D4345  \\\n",
              "aa          0.0  0.0  0.0  0.0  0.0  0.0  0.0  0.0  0.0  0.0  ...    0.0   \n",
              "abadi       0.0  0.0  0.0  0.0  0.0  0.0  0.0  0.0  0.0  0.0  ...    0.0   \n",
              "abai        0.0  0.0  0.0  0.0  0.0  0.0  0.0  0.0  0.0  0.0  ...    0.0   \n",
              "abang       0.0  0.0  0.0  0.0  0.0  0.0  0.0  0.0  0.0  0.0  ...    0.0   \n",
              "abas        0.0  0.0  0.0  0.0  0.0  0.0  0.0  0.0  0.0  0.0  ...    0.0   \n",
              "...         ...  ...  ...  ...  ...  ...  ...  ...  ...  ...  ...    ...   \n",
              "zonasi      0.0  0.0  0.0  0.0  0.0  0.0  0.0  0.0  0.0  0.0  ...    0.0   \n",
              "zone        0.0  0.0  0.0  0.0  0.0  0.0  0.0  0.0  0.0  0.0  ...    0.0   \n",
              "zsexbwsyvr  0.0  0.0  0.0  0.0  0.0  0.0  0.0  0.0  0.0  0.0  ...    0.0   \n",
              "zul         0.0  0.0  0.0  0.0  0.0  0.0  0.0  0.0  0.0  0.0  ...    0.0   \n",
              "zura        0.0  0.0  0.0  0.0  0.0  0.0  0.0  0.0  0.0  0.0  ...    0.0   \n",
              "\n",
              "            D4346  D4347  D4348  D4349  D4350  D4351  D4352  D4353  D4354  \n",
              "aa            0.0    0.0    0.0    0.0    0.0    0.0    0.0    0.0    0.0  \n",
              "abadi         0.0    0.0    0.0    0.0    0.0    0.0    0.0    0.0    0.0  \n",
              "abai          0.0    0.0    0.0    0.0    0.0    0.0    0.0    0.0    0.0  \n",
              "abang         0.0    0.0    0.0    0.0    0.0    0.0    0.0    0.0    0.0  \n",
              "abas          0.0    0.0    0.0    0.0    0.0    0.0    0.0    0.0    0.0  \n",
              "...           ...    ...    ...    ...    ...    ...    ...    ...    ...  \n",
              "zonasi        0.0    0.0    0.0    0.0    0.0    0.0    0.0    0.0    0.0  \n",
              "zone          0.0    0.0    0.0    0.0    0.0    0.0    0.0    0.0    0.0  \n",
              "zsexbwsyvr    0.0    0.0    0.0    0.0    0.0    0.0    0.0    0.0    0.0  \n",
              "zul           0.0    0.0    0.0    0.0    0.0    0.0    0.0    0.0    0.0  \n",
              "zura          0.0    0.0    0.0    0.0    0.0    0.0    0.0    0.0    0.0  \n",
              "\n",
              "[7933 rows x 4354 columns]"
            ],
            "text/html": [
              "\n",
              "  <div id=\"df-79b045af-4b92-4e77-96d8-3c3a0ae953cb\">\n",
              "    <div class=\"colab-df-container\">\n",
              "      <div>\n",
              "<style scoped>\n",
              "    .dataframe tbody tr th:only-of-type {\n",
              "        vertical-align: middle;\n",
              "    }\n",
              "\n",
              "    .dataframe tbody tr th {\n",
              "        vertical-align: top;\n",
              "    }\n",
              "\n",
              "    .dataframe thead th {\n",
              "        text-align: right;\n",
              "    }\n",
              "</style>\n",
              "<table border=\"1\" class=\"dataframe\">\n",
              "  <thead>\n",
              "    <tr style=\"text-align: right;\">\n",
              "      <th></th>\n",
              "      <th>D1</th>\n",
              "      <th>D2</th>\n",
              "      <th>D3</th>\n",
              "      <th>D4</th>\n",
              "      <th>D5</th>\n",
              "      <th>D6</th>\n",
              "      <th>D7</th>\n",
              "      <th>D8</th>\n",
              "      <th>D9</th>\n",
              "      <th>D10</th>\n",
              "      <th>...</th>\n",
              "      <th>D4345</th>\n",
              "      <th>D4346</th>\n",
              "      <th>D4347</th>\n",
              "      <th>D4348</th>\n",
              "      <th>D4349</th>\n",
              "      <th>D4350</th>\n",
              "      <th>D4351</th>\n",
              "      <th>D4352</th>\n",
              "      <th>D4353</th>\n",
              "      <th>D4354</th>\n",
              "    </tr>\n",
              "  </thead>\n",
              "  <tbody>\n",
              "    <tr>\n",
              "      <th>aa</th>\n",
              "      <td>0.0</td>\n",
              "      <td>0.0</td>\n",
              "      <td>0.0</td>\n",
              "      <td>0.0</td>\n",
              "      <td>0.0</td>\n",
              "      <td>0.0</td>\n",
              "      <td>0.0</td>\n",
              "      <td>0.0</td>\n",
              "      <td>0.0</td>\n",
              "      <td>0.0</td>\n",
              "      <td>...</td>\n",
              "      <td>0.0</td>\n",
              "      <td>0.0</td>\n",
              "      <td>0.0</td>\n",
              "      <td>0.0</td>\n",
              "      <td>0.0</td>\n",
              "      <td>0.0</td>\n",
              "      <td>0.0</td>\n",
              "      <td>0.0</td>\n",
              "      <td>0.0</td>\n",
              "      <td>0.0</td>\n",
              "    </tr>\n",
              "    <tr>\n",
              "      <th>abadi</th>\n",
              "      <td>0.0</td>\n",
              "      <td>0.0</td>\n",
              "      <td>0.0</td>\n",
              "      <td>0.0</td>\n",
              "      <td>0.0</td>\n",
              "      <td>0.0</td>\n",
              "      <td>0.0</td>\n",
              "      <td>0.0</td>\n",
              "      <td>0.0</td>\n",
              "      <td>0.0</td>\n",
              "      <td>...</td>\n",
              "      <td>0.0</td>\n",
              "      <td>0.0</td>\n",
              "      <td>0.0</td>\n",
              "      <td>0.0</td>\n",
              "      <td>0.0</td>\n",
              "      <td>0.0</td>\n",
              "      <td>0.0</td>\n",
              "      <td>0.0</td>\n",
              "      <td>0.0</td>\n",
              "      <td>0.0</td>\n",
              "    </tr>\n",
              "    <tr>\n",
              "      <th>abai</th>\n",
              "      <td>0.0</td>\n",
              "      <td>0.0</td>\n",
              "      <td>0.0</td>\n",
              "      <td>0.0</td>\n",
              "      <td>0.0</td>\n",
              "      <td>0.0</td>\n",
              "      <td>0.0</td>\n",
              "      <td>0.0</td>\n",
              "      <td>0.0</td>\n",
              "      <td>0.0</td>\n",
              "      <td>...</td>\n",
              "      <td>0.0</td>\n",
              "      <td>0.0</td>\n",
              "      <td>0.0</td>\n",
              "      <td>0.0</td>\n",
              "      <td>0.0</td>\n",
              "      <td>0.0</td>\n",
              "      <td>0.0</td>\n",
              "      <td>0.0</td>\n",
              "      <td>0.0</td>\n",
              "      <td>0.0</td>\n",
              "    </tr>\n",
              "    <tr>\n",
              "      <th>abang</th>\n",
              "      <td>0.0</td>\n",
              "      <td>0.0</td>\n",
              "      <td>0.0</td>\n",
              "      <td>0.0</td>\n",
              "      <td>0.0</td>\n",
              "      <td>0.0</td>\n",
              "      <td>0.0</td>\n",
              "      <td>0.0</td>\n",
              "      <td>0.0</td>\n",
              "      <td>0.0</td>\n",
              "      <td>...</td>\n",
              "      <td>0.0</td>\n",
              "      <td>0.0</td>\n",
              "      <td>0.0</td>\n",
              "      <td>0.0</td>\n",
              "      <td>0.0</td>\n",
              "      <td>0.0</td>\n",
              "      <td>0.0</td>\n",
              "      <td>0.0</td>\n",
              "      <td>0.0</td>\n",
              "      <td>0.0</td>\n",
              "    </tr>\n",
              "    <tr>\n",
              "      <th>abas</th>\n",
              "      <td>0.0</td>\n",
              "      <td>0.0</td>\n",
              "      <td>0.0</td>\n",
              "      <td>0.0</td>\n",
              "      <td>0.0</td>\n",
              "      <td>0.0</td>\n",
              "      <td>0.0</td>\n",
              "      <td>0.0</td>\n",
              "      <td>0.0</td>\n",
              "      <td>0.0</td>\n",
              "      <td>...</td>\n",
              "      <td>0.0</td>\n",
              "      <td>0.0</td>\n",
              "      <td>0.0</td>\n",
              "      <td>0.0</td>\n",
              "      <td>0.0</td>\n",
              "      <td>0.0</td>\n",
              "      <td>0.0</td>\n",
              "      <td>0.0</td>\n",
              "      <td>0.0</td>\n",
              "      <td>0.0</td>\n",
              "    </tr>\n",
              "    <tr>\n",
              "      <th>...</th>\n",
              "      <td>...</td>\n",
              "      <td>...</td>\n",
              "      <td>...</td>\n",
              "      <td>...</td>\n",
              "      <td>...</td>\n",
              "      <td>...</td>\n",
              "      <td>...</td>\n",
              "      <td>...</td>\n",
              "      <td>...</td>\n",
              "      <td>...</td>\n",
              "      <td>...</td>\n",
              "      <td>...</td>\n",
              "      <td>...</td>\n",
              "      <td>...</td>\n",
              "      <td>...</td>\n",
              "      <td>...</td>\n",
              "      <td>...</td>\n",
              "      <td>...</td>\n",
              "      <td>...</td>\n",
              "      <td>...</td>\n",
              "      <td>...</td>\n",
              "    </tr>\n",
              "    <tr>\n",
              "      <th>zonasi</th>\n",
              "      <td>0.0</td>\n",
              "      <td>0.0</td>\n",
              "      <td>0.0</td>\n",
              "      <td>0.0</td>\n",
              "      <td>0.0</td>\n",
              "      <td>0.0</td>\n",
              "      <td>0.0</td>\n",
              "      <td>0.0</td>\n",
              "      <td>0.0</td>\n",
              "      <td>0.0</td>\n",
              "      <td>...</td>\n",
              "      <td>0.0</td>\n",
              "      <td>0.0</td>\n",
              "      <td>0.0</td>\n",
              "      <td>0.0</td>\n",
              "      <td>0.0</td>\n",
              "      <td>0.0</td>\n",
              "      <td>0.0</td>\n",
              "      <td>0.0</td>\n",
              "      <td>0.0</td>\n",
              "      <td>0.0</td>\n",
              "    </tr>\n",
              "    <tr>\n",
              "      <th>zone</th>\n",
              "      <td>0.0</td>\n",
              "      <td>0.0</td>\n",
              "      <td>0.0</td>\n",
              "      <td>0.0</td>\n",
              "      <td>0.0</td>\n",
              "      <td>0.0</td>\n",
              "      <td>0.0</td>\n",
              "      <td>0.0</td>\n",
              "      <td>0.0</td>\n",
              "      <td>0.0</td>\n",
              "      <td>...</td>\n",
              "      <td>0.0</td>\n",
              "      <td>0.0</td>\n",
              "      <td>0.0</td>\n",
              "      <td>0.0</td>\n",
              "      <td>0.0</td>\n",
              "      <td>0.0</td>\n",
              "      <td>0.0</td>\n",
              "      <td>0.0</td>\n",
              "      <td>0.0</td>\n",
              "      <td>0.0</td>\n",
              "    </tr>\n",
              "    <tr>\n",
              "      <th>zsexbwsyvr</th>\n",
              "      <td>0.0</td>\n",
              "      <td>0.0</td>\n",
              "      <td>0.0</td>\n",
              "      <td>0.0</td>\n",
              "      <td>0.0</td>\n",
              "      <td>0.0</td>\n",
              "      <td>0.0</td>\n",
              "      <td>0.0</td>\n",
              "      <td>0.0</td>\n",
              "      <td>0.0</td>\n",
              "      <td>...</td>\n",
              "      <td>0.0</td>\n",
              "      <td>0.0</td>\n",
              "      <td>0.0</td>\n",
              "      <td>0.0</td>\n",
              "      <td>0.0</td>\n",
              "      <td>0.0</td>\n",
              "      <td>0.0</td>\n",
              "      <td>0.0</td>\n",
              "      <td>0.0</td>\n",
              "      <td>0.0</td>\n",
              "    </tr>\n",
              "    <tr>\n",
              "      <th>zul</th>\n",
              "      <td>0.0</td>\n",
              "      <td>0.0</td>\n",
              "      <td>0.0</td>\n",
              "      <td>0.0</td>\n",
              "      <td>0.0</td>\n",
              "      <td>0.0</td>\n",
              "      <td>0.0</td>\n",
              "      <td>0.0</td>\n",
              "      <td>0.0</td>\n",
              "      <td>0.0</td>\n",
              "      <td>...</td>\n",
              "      <td>0.0</td>\n",
              "      <td>0.0</td>\n",
              "      <td>0.0</td>\n",
              "      <td>0.0</td>\n",
              "      <td>0.0</td>\n",
              "      <td>0.0</td>\n",
              "      <td>0.0</td>\n",
              "      <td>0.0</td>\n",
              "      <td>0.0</td>\n",
              "      <td>0.0</td>\n",
              "    </tr>\n",
              "    <tr>\n",
              "      <th>zura</th>\n",
              "      <td>0.0</td>\n",
              "      <td>0.0</td>\n",
              "      <td>0.0</td>\n",
              "      <td>0.0</td>\n",
              "      <td>0.0</td>\n",
              "      <td>0.0</td>\n",
              "      <td>0.0</td>\n",
              "      <td>0.0</td>\n",
              "      <td>0.0</td>\n",
              "      <td>0.0</td>\n",
              "      <td>...</td>\n",
              "      <td>0.0</td>\n",
              "      <td>0.0</td>\n",
              "      <td>0.0</td>\n",
              "      <td>0.0</td>\n",
              "      <td>0.0</td>\n",
              "      <td>0.0</td>\n",
              "      <td>0.0</td>\n",
              "      <td>0.0</td>\n",
              "      <td>0.0</td>\n",
              "      <td>0.0</td>\n",
              "    </tr>\n",
              "  </tbody>\n",
              "</table>\n",
              "<p>7933 rows × 4354 columns</p>\n",
              "</div>\n",
              "      <button class=\"colab-df-convert\" onclick=\"convertToInteractive('df-79b045af-4b92-4e77-96d8-3c3a0ae953cb')\"\n",
              "              title=\"Convert this dataframe to an interactive table.\"\n",
              "              style=\"display:none;\">\n",
              "        \n",
              "  <svg xmlns=\"http://www.w3.org/2000/svg\" height=\"24px\"viewBox=\"0 0 24 24\"\n",
              "       width=\"24px\">\n",
              "    <path d=\"M0 0h24v24H0V0z\" fill=\"none\"/>\n",
              "    <path d=\"M18.56 5.44l.94 2.06.94-2.06 2.06-.94-2.06-.94-.94-2.06-.94 2.06-2.06.94zm-11 1L8.5 8.5l.94-2.06 2.06-.94-2.06-.94L8.5 2.5l-.94 2.06-2.06.94zm10 10l.94 2.06.94-2.06 2.06-.94-2.06-.94-.94-2.06-.94 2.06-2.06.94z\"/><path d=\"M17.41 7.96l-1.37-1.37c-.4-.4-.92-.59-1.43-.59-.52 0-1.04.2-1.43.59L10.3 9.45l-7.72 7.72c-.78.78-.78 2.05 0 2.83L4 21.41c.39.39.9.59 1.41.59.51 0 1.02-.2 1.41-.59l7.78-7.78 2.81-2.81c.8-.78.8-2.07 0-2.86zM5.41 20L4 18.59l7.72-7.72 1.47 1.35L5.41 20z\"/>\n",
              "  </svg>\n",
              "      </button>\n",
              "      \n",
              "  <style>\n",
              "    .colab-df-container {\n",
              "      display:flex;\n",
              "      flex-wrap:wrap;\n",
              "      gap: 12px;\n",
              "    }\n",
              "\n",
              "    .colab-df-convert {\n",
              "      background-color: #E8F0FE;\n",
              "      border: none;\n",
              "      border-radius: 50%;\n",
              "      cursor: pointer;\n",
              "      display: none;\n",
              "      fill: #1967D2;\n",
              "      height: 32px;\n",
              "      padding: 0 0 0 0;\n",
              "      width: 32px;\n",
              "    }\n",
              "\n",
              "    .colab-df-convert:hover {\n",
              "      background-color: #E2EBFA;\n",
              "      box-shadow: 0px 1px 2px rgba(60, 64, 67, 0.3), 0px 1px 3px 1px rgba(60, 64, 67, 0.15);\n",
              "      fill: #174EA6;\n",
              "    }\n",
              "\n",
              "    [theme=dark] .colab-df-convert {\n",
              "      background-color: #3B4455;\n",
              "      fill: #D2E3FC;\n",
              "    }\n",
              "\n",
              "    [theme=dark] .colab-df-convert:hover {\n",
              "      background-color: #434B5C;\n",
              "      box-shadow: 0px 1px 3px 1px rgba(0, 0, 0, 0.15);\n",
              "      filter: drop-shadow(0px 1px 2px rgba(0, 0, 0, 0.3));\n",
              "      fill: #FFFFFF;\n",
              "    }\n",
              "  </style>\n",
              "\n",
              "      <script>\n",
              "        const buttonEl =\n",
              "          document.querySelector('#df-79b045af-4b92-4e77-96d8-3c3a0ae953cb button.colab-df-convert');\n",
              "        buttonEl.style.display =\n",
              "          google.colab.kernel.accessAllowed ? 'block' : 'none';\n",
              "\n",
              "        async function convertToInteractive(key) {\n",
              "          const element = document.querySelector('#df-79b045af-4b92-4e77-96d8-3c3a0ae953cb');\n",
              "          const dataTable =\n",
              "            await google.colab.kernel.invokeFunction('convertToInteractive',\n",
              "                                                     [key], {});\n",
              "          if (!dataTable) return;\n",
              "\n",
              "          const docLinkHtml = 'Like what you see? Visit the ' +\n",
              "            '<a target=\"_blank\" href=https://colab.research.google.com/notebooks/data_table.ipynb>data table notebook</a>'\n",
              "            + ' to learn more about interactive tables.';\n",
              "          element.innerHTML = '';\n",
              "          dataTable['output_type'] = 'display_data';\n",
              "          await google.colab.output.renderOutput(dataTable, element);\n",
              "          const docLink = document.createElement('div');\n",
              "          docLink.innerHTML = docLinkHtml;\n",
              "          element.appendChild(docLink);\n",
              "        }\n",
              "      </script>\n",
              "    </div>\n",
              "  </div>\n",
              "  "
            ]
          },
          "metadata": {},
          "execution_count": 13
        }
      ]
    },
    {
      "cell_type": "code",
      "source": [
        "data_normal['tfidf'] = list(response.toarray())\n",
        "vectors_for_training = np.array(data_normal['tfidf'].tolist())"
      ],
      "metadata": {
        "id": "1ottD-_RS9dX"
      },
      "execution_count": 14,
      "outputs": []
    },
    {
      "cell_type": "code",
      "source": [
        "vectors_for_training.shape"
      ],
      "metadata": {
        "colab": {
          "base_uri": "https://localhost:8080/"
        },
        "id": "j3kBL0lPTDII",
        "outputId": "1928a913-615a-482b-e68b-d646373cfccc"
      },
      "execution_count": 15,
      "outputs": [
        {
          "output_type": "execute_result",
          "data": {
            "text/plain": [
              "(4354, 7933)"
            ]
          },
          "metadata": {},
          "execution_count": 15
        }
      ]
    },
    {
      "cell_type": "code",
      "source": [
        "vectors_for_training"
      ],
      "metadata": {
        "colab": {
          "base_uri": "https://localhost:8080/"
        },
        "id": "jtRoVE0QTEcN",
        "outputId": "ad9bcfa9-effe-42cd-9d84-b5d13a3d9834"
      },
      "execution_count": 16,
      "outputs": [
        {
          "output_type": "execute_result",
          "data": {
            "text/plain": [
              "array([[0., 0., 0., ..., 0., 0., 0.],\n",
              "       [0., 0., 0., ..., 0., 0., 0.],\n",
              "       [0., 0., 0., ..., 0., 0., 0.],\n",
              "       ...,\n",
              "       [0., 0., 0., ..., 0., 0., 0.],\n",
              "       [0., 0., 0., ..., 0., 0., 0.],\n",
              "       [0., 0., 0., ..., 0., 0., 0.]])"
            ]
          },
          "metadata": {},
          "execution_count": 16
        }
      ]
    },
    {
      "cell_type": "code",
      "source": [
        "labelencoder = LabelEncoder()\n",
        "labels = np.array(labelencoder.fit_transform(data_normal['sentimen']).tolist())"
      ],
      "metadata": {
        "id": "hA9VUJOaTHwK"
      },
      "execution_count": 17,
      "outputs": []
    },
    {
      "cell_type": "markdown",
      "source": [
        "# Train Test Split and Cross Validation"
      ],
      "metadata": {
        "id": "nxmFIANlTPo9"
      }
    },
    {
      "cell_type": "markdown",
      "source": [
        "## Data Split"
      ],
      "metadata": {
        "id": "bESM6lviThDv"
      }
    },
    {
      "cell_type": "code",
      "source": [
        "# Data Splitting & CV\n",
        "from sklearn.model_selection import *\n",
        "# Metrics\n",
        "from sklearn.metrics import *"
      ],
      "metadata": {
        "id": "nwrRC8I_Tf95"
      },
      "execution_count": 18,
      "outputs": []
    },
    {
      "cell_type": "code",
      "source": [
        "X_train, X_test, Y_train, Y_test = train_test_split(vectors_for_training, labels, test_size = 0.20, \n",
        "                                                      random_state = SEED)"
      ],
      "metadata": {
        "id": "jiu2XpZ1TpcH"
      },
      "execution_count": 19,
      "outputs": []
    },
    {
      "cell_type": "code",
      "source": [
        "print('Ukuran X Train:', X_train.shape)\n",
        "print('Ukuran Y Train:', Y_train.shape)\n",
        "print('Ukuran X Test:', X_test.shape)\n",
        "print('Ukuran Y Test:', Y_test.shape)\n"
      ],
      "metadata": {
        "colab": {
          "base_uri": "https://localhost:8080/"
        },
        "id": "iLiSzC_sTsgL",
        "outputId": "79b4752c-356a-432f-b84f-9ac541bf0cbb"
      },
      "execution_count": 20,
      "outputs": [
        {
          "output_type": "stream",
          "name": "stdout",
          "text": [
            "Ukuran X Train: (3483, 7933)\n",
            "Ukuran Y Train: (3483,)\n",
            "Ukuran X Test: (871, 7933)\n",
            "Ukuran Y Test: (871,)\n"
          ]
        }
      ]
    },
    {
      "cell_type": "markdown",
      "source": [
        "## Cross Validation"
      ],
      "metadata": {
        "id": "dv8lsq64TynQ"
      }
    },
    {
      "cell_type": "code",
      "source": [
        "cv = StratifiedKFold(n_splits = 5, shuffle = True,\n",
        "                     random_state = SEED)"
      ],
      "metadata": {
        "id": "yAzhR5MATurv"
      },
      "execution_count": 21,
      "outputs": []
    },
    {
      "cell_type": "markdown",
      "source": [
        "# Modelling "
      ],
      "metadata": {
        "id": "dSQFx9rgT6C_"
      }
    },
    {
      "cell_type": "code",
      "source": [
        "from sklearn.naive_bayes import MultinomialNB"
      ],
      "metadata": {
        "id": "7GVN9HxLT4pj"
      },
      "execution_count": 22,
      "outputs": []
    },
    {
      "cell_type": "code",
      "source": [
        "MNB = MultinomialNB()"
      ],
      "metadata": {
        "id": "lnMfRBLtUAh2"
      },
      "execution_count": 23,
      "outputs": []
    },
    {
      "cell_type": "code",
      "source": [
        "params = {'alpha': [0.01, 0.1, 0.25, 0.75, 0.5, 0.025, 0.05, 0.075, 0.2, 0.3, 0.4, 0.6, 0.7, 0.8, 0.9, 0.02, 0.03, 0.04, 0.05, 0.06, 0.07, 0.08, 0.09],\n",
        "         'fit_prior': [True, False],\n",
        "         'class_prior': [None, [.37,.31, .32],[.4, .3, .3],[.35, .32, .33]]}\n",
        "\n",
        "multinomial_nb_grid = GridSearchCV(MNB, param_grid=params, n_jobs=-1, cv=cv, verbose=5, scoring = 'accuracy')\n",
        "multinomial_nb_grid.fit(X_train,Y_train)"
      ],
      "metadata": {
        "colab": {
          "base_uri": "https://localhost:8080/"
        },
        "id": "mMJOOf_4UFNk",
        "outputId": "4a11c55f-c277-4bfe-d676-91178e96ef2d"
      },
      "execution_count": 24,
      "outputs": [
        {
          "output_type": "stream",
          "name": "stdout",
          "text": [
            "Fitting 5 folds for each of 184 candidates, totalling 920 fits\n"
          ]
        },
        {
          "output_type": "execute_result",
          "data": {
            "text/plain": [
              "GridSearchCV(cv=StratifiedKFold(n_splits=5, random_state=2022, shuffle=True),\n",
              "             estimator=MultinomialNB(), n_jobs=-1,\n",
              "             param_grid={'alpha': [0.01, 0.1, 0.25, 0.75, 0.5, 0.025, 0.05,\n",
              "                                   0.075, 0.2, 0.3, 0.4, 0.6, 0.7, 0.8, 0.9,\n",
              "                                   0.02, 0.03, 0.04, 0.05, 0.06, 0.07, 0.08,\n",
              "                                   0.09],\n",
              "                         'class_prior': [None, [0.37, 0.31, 0.32],\n",
              "                                         [0.4, 0.3, 0.3], [0.35, 0.32, 0.33]],\n",
              "                         'fit_prior': [True, False]},\n",
              "             scoring='accuracy', verbose=5)"
            ]
          },
          "metadata": {},
          "execution_count": 24
        }
      ]
    },
    {
      "cell_type": "code",
      "source": [
        "print('Train Accuracy : %.3f'%multinomial_nb_grid.best_estimator_.score(X_train, Y_train))\n",
        "print('Test Accuracy : %.3f'%multinomial_nb_grid.best_estimator_.score(X_test, Y_test))\n",
        "print('Best Accuracy Through Grid Search : %.3f'%multinomial_nb_grid.best_score_)\n",
        "print('Best Parameters : ',multinomial_nb_grid.best_params_)"
      ],
      "metadata": {
        "colab": {
          "base_uri": "https://localhost:8080/"
        },
        "id": "hgAWKhX9URqK",
        "outputId": "38bbb397-b1fe-4030-8221-0e13d907fa89"
      },
      "execution_count": 25,
      "outputs": [
        {
          "output_type": "stream",
          "name": "stdout",
          "text": [
            "Train Accuracy : 0.884\n",
            "Test Accuracy : 0.714\n",
            "Best Accuracy Through Grid Search : 0.697\n",
            "Best Parameters :  {'alpha': 0.4, 'class_prior': None, 'fit_prior': False}\n"
          ]
        }
      ]
    },
    {
      "cell_type": "code",
      "source": [
        "MNB1 = MultinomialNB(alpha=0.4, class_prior=None, fit_prior= False )"
      ],
      "metadata": {
        "id": "KklC8dQkUVxE"
      },
      "execution_count": 26,
      "outputs": []
    },
    {
      "cell_type": "code",
      "source": [
        "scores = cross_val_score(MNB1, X_train, Y_train,  n_jobs=-1, cv=cv, verbose=5, scoring = 'accuracy')\n",
        "print(scores)"
      ],
      "metadata": {
        "colab": {
          "base_uri": "https://localhost:8080/"
        },
        "id": "kdETR18WUY39",
        "outputId": "8fe360ab-9559-4bfa-ca0c-c9899bc5b45a"
      },
      "execution_count": 27,
      "outputs": [
        {
          "output_type": "stream",
          "name": "stderr",
          "text": [
            "[Parallel(n_jobs=-1)]: Using backend LokyBackend with 2 concurrent workers.\n"
          ]
        },
        {
          "output_type": "stream",
          "name": "stdout",
          "text": [
            "[0.71449067 0.70014347 0.68579627 0.69252874 0.69396552]\n"
          ]
        },
        {
          "output_type": "stream",
          "name": "stderr",
          "text": [
            "[Parallel(n_jobs=-1)]: Done   5 out of   5 | elapsed:    1.0s finished\n"
          ]
        }
      ]
    },
    {
      "cell_type": "code",
      "source": [
        "Coba = MNB1.fit(X_train, Y_train)"
      ],
      "metadata": {
        "id": "D1fnk8zpUbSi"
      },
      "execution_count": 28,
      "outputs": []
    },
    {
      "cell_type": "code",
      "source": [
        "hasil = Coba.predict(X_train)\n",
        "accuracy_score(Y_train, hasil)"
      ],
      "metadata": {
        "colab": {
          "base_uri": "https://localhost:8080/"
        },
        "id": "gykGfg6iUfTS",
        "outputId": "7fdcacb6-5a48-49bd-8054-269cc1aaf374"
      },
      "execution_count": 31,
      "outputs": [
        {
          "output_type": "execute_result",
          "data": {
            "text/plain": [
              "0.8840080390467987"
            ]
          },
          "metadata": {},
          "execution_count": 31
        }
      ]
    },
    {
      "cell_type": "code",
      "source": [
        "MNB1.class_count_"
      ],
      "metadata": {
        "colab": {
          "base_uri": "https://localhost:8080/"
        },
        "id": "5NSksokNUjio",
        "outputId": "0297c4b3-b212-4c95-8a6f-02c4bce4981b"
      },
      "execution_count": 32,
      "outputs": [
        {
          "output_type": "execute_result",
          "data": {
            "text/plain": [
              "array([1285., 1098., 1100.])"
            ]
          },
          "metadata": {},
          "execution_count": 32
        }
      ]
    },
    {
      "cell_type": "code",
      "source": [
        "MNB1.feature_count_.T"
      ],
      "metadata": {
        "colab": {
          "base_uri": "https://localhost:8080/"
        },
        "id": "E5U-3iOVUmhP",
        "outputId": "b6d8ebda-2531-454e-b992-a403e8a241f4"
      },
      "execution_count": 33,
      "outputs": [
        {
          "output_type": "execute_result",
          "data": {
            "text/plain": [
              "array([[0.        , 0.        , 0.30463826],\n",
              "       [0.        , 1.17207883, 0.        ],\n",
              "       [1.34606108, 0.        , 2.06456764],\n",
              "       ...,\n",
              "       [0.        , 0.        , 0.        ],\n",
              "       [0.        , 0.        , 0.21886128],\n",
              "       [0.        , 0.        , 0.27624271]])"
            ]
          },
          "metadata": {},
          "execution_count": 33
        }
      ]
    },
    {
      "cell_type": "code",
      "source": [
        "frame_fit1 = pd.DataFrame(MNB1.feature_count_.T,\n",
        "                           index = vectorize.get_feature_names(),\n",
        "                           columns= MNB1.classes_)\n",
        "frame_fit1"
      ],
      "metadata": {
        "colab": {
          "base_uri": "https://localhost:8080/",
          "height": 479
        },
        "id": "J6oxrKsCUnhk",
        "outputId": "6cb87bce-89cb-4ff7-9a3c-84a14e2c9ea8"
      },
      "execution_count": 34,
      "outputs": [
        {
          "output_type": "stream",
          "name": "stderr",
          "text": [
            "/usr/local/lib/python3.7/dist-packages/sklearn/utils/deprecation.py:87: FutureWarning: Function get_feature_names is deprecated; get_feature_names is deprecated in 1.0 and will be removed in 1.2. Please use get_feature_names_out instead.\n",
            "  warnings.warn(msg, category=FutureWarning)\n"
          ]
        },
        {
          "output_type": "execute_result",
          "data": {
            "text/plain": [
              "                   0         1         2\n",
              "aa          0.000000  0.000000  0.304638\n",
              "abadi       0.000000  1.172079  0.000000\n",
              "abai        1.346061  0.000000  2.064568\n",
              "abang       0.335788  0.335788  0.647097\n",
              "abas        0.316596  0.000000  0.349878\n",
              "...              ...       ...       ...\n",
              "zonasi      0.000000  0.000000  0.257569\n",
              "zone        0.000000  0.310507  0.000000\n",
              "zsexbwsyvr  0.000000  0.000000  0.000000\n",
              "zul         0.000000  0.000000  0.218861\n",
              "zura        0.000000  0.000000  0.276243\n",
              "\n",
              "[7933 rows x 3 columns]"
            ],
            "text/html": [
              "\n",
              "  <div id=\"df-7f876b08-c086-4333-932f-0ae1a3c5b1d7\">\n",
              "    <div class=\"colab-df-container\">\n",
              "      <div>\n",
              "<style scoped>\n",
              "    .dataframe tbody tr th:only-of-type {\n",
              "        vertical-align: middle;\n",
              "    }\n",
              "\n",
              "    .dataframe tbody tr th {\n",
              "        vertical-align: top;\n",
              "    }\n",
              "\n",
              "    .dataframe thead th {\n",
              "        text-align: right;\n",
              "    }\n",
              "</style>\n",
              "<table border=\"1\" class=\"dataframe\">\n",
              "  <thead>\n",
              "    <tr style=\"text-align: right;\">\n",
              "      <th></th>\n",
              "      <th>0</th>\n",
              "      <th>1</th>\n",
              "      <th>2</th>\n",
              "    </tr>\n",
              "  </thead>\n",
              "  <tbody>\n",
              "    <tr>\n",
              "      <th>aa</th>\n",
              "      <td>0.000000</td>\n",
              "      <td>0.000000</td>\n",
              "      <td>0.304638</td>\n",
              "    </tr>\n",
              "    <tr>\n",
              "      <th>abadi</th>\n",
              "      <td>0.000000</td>\n",
              "      <td>1.172079</td>\n",
              "      <td>0.000000</td>\n",
              "    </tr>\n",
              "    <tr>\n",
              "      <th>abai</th>\n",
              "      <td>1.346061</td>\n",
              "      <td>0.000000</td>\n",
              "      <td>2.064568</td>\n",
              "    </tr>\n",
              "    <tr>\n",
              "      <th>abang</th>\n",
              "      <td>0.335788</td>\n",
              "      <td>0.335788</td>\n",
              "      <td>0.647097</td>\n",
              "    </tr>\n",
              "    <tr>\n",
              "      <th>abas</th>\n",
              "      <td>0.316596</td>\n",
              "      <td>0.000000</td>\n",
              "      <td>0.349878</td>\n",
              "    </tr>\n",
              "    <tr>\n",
              "      <th>...</th>\n",
              "      <td>...</td>\n",
              "      <td>...</td>\n",
              "      <td>...</td>\n",
              "    </tr>\n",
              "    <tr>\n",
              "      <th>zonasi</th>\n",
              "      <td>0.000000</td>\n",
              "      <td>0.000000</td>\n",
              "      <td>0.257569</td>\n",
              "    </tr>\n",
              "    <tr>\n",
              "      <th>zone</th>\n",
              "      <td>0.000000</td>\n",
              "      <td>0.310507</td>\n",
              "      <td>0.000000</td>\n",
              "    </tr>\n",
              "    <tr>\n",
              "      <th>zsexbwsyvr</th>\n",
              "      <td>0.000000</td>\n",
              "      <td>0.000000</td>\n",
              "      <td>0.000000</td>\n",
              "    </tr>\n",
              "    <tr>\n",
              "      <th>zul</th>\n",
              "      <td>0.000000</td>\n",
              "      <td>0.000000</td>\n",
              "      <td>0.218861</td>\n",
              "    </tr>\n",
              "    <tr>\n",
              "      <th>zura</th>\n",
              "      <td>0.000000</td>\n",
              "      <td>0.000000</td>\n",
              "      <td>0.276243</td>\n",
              "    </tr>\n",
              "  </tbody>\n",
              "</table>\n",
              "<p>7933 rows × 3 columns</p>\n",
              "</div>\n",
              "      <button class=\"colab-df-convert\" onclick=\"convertToInteractive('df-7f876b08-c086-4333-932f-0ae1a3c5b1d7')\"\n",
              "              title=\"Convert this dataframe to an interactive table.\"\n",
              "              style=\"display:none;\">\n",
              "        \n",
              "  <svg xmlns=\"http://www.w3.org/2000/svg\" height=\"24px\"viewBox=\"0 0 24 24\"\n",
              "       width=\"24px\">\n",
              "    <path d=\"M0 0h24v24H0V0z\" fill=\"none\"/>\n",
              "    <path d=\"M18.56 5.44l.94 2.06.94-2.06 2.06-.94-2.06-.94-.94-2.06-.94 2.06-2.06.94zm-11 1L8.5 8.5l.94-2.06 2.06-.94-2.06-.94L8.5 2.5l-.94 2.06-2.06.94zm10 10l.94 2.06.94-2.06 2.06-.94-2.06-.94-.94-2.06-.94 2.06-2.06.94z\"/><path d=\"M17.41 7.96l-1.37-1.37c-.4-.4-.92-.59-1.43-.59-.52 0-1.04.2-1.43.59L10.3 9.45l-7.72 7.72c-.78.78-.78 2.05 0 2.83L4 21.41c.39.39.9.59 1.41.59.51 0 1.02-.2 1.41-.59l7.78-7.78 2.81-2.81c.8-.78.8-2.07 0-2.86zM5.41 20L4 18.59l7.72-7.72 1.47 1.35L5.41 20z\"/>\n",
              "  </svg>\n",
              "      </button>\n",
              "      \n",
              "  <style>\n",
              "    .colab-df-container {\n",
              "      display:flex;\n",
              "      flex-wrap:wrap;\n",
              "      gap: 12px;\n",
              "    }\n",
              "\n",
              "    .colab-df-convert {\n",
              "      background-color: #E8F0FE;\n",
              "      border: none;\n",
              "      border-radius: 50%;\n",
              "      cursor: pointer;\n",
              "      display: none;\n",
              "      fill: #1967D2;\n",
              "      height: 32px;\n",
              "      padding: 0 0 0 0;\n",
              "      width: 32px;\n",
              "    }\n",
              "\n",
              "    .colab-df-convert:hover {\n",
              "      background-color: #E2EBFA;\n",
              "      box-shadow: 0px 1px 2px rgba(60, 64, 67, 0.3), 0px 1px 3px 1px rgba(60, 64, 67, 0.15);\n",
              "      fill: #174EA6;\n",
              "    }\n",
              "\n",
              "    [theme=dark] .colab-df-convert {\n",
              "      background-color: #3B4455;\n",
              "      fill: #D2E3FC;\n",
              "    }\n",
              "\n",
              "    [theme=dark] .colab-df-convert:hover {\n",
              "      background-color: #434B5C;\n",
              "      box-shadow: 0px 1px 3px 1px rgba(0, 0, 0, 0.15);\n",
              "      filter: drop-shadow(0px 1px 2px rgba(0, 0, 0, 0.3));\n",
              "      fill: #FFFFFF;\n",
              "    }\n",
              "  </style>\n",
              "\n",
              "      <script>\n",
              "        const buttonEl =\n",
              "          document.querySelector('#df-7f876b08-c086-4333-932f-0ae1a3c5b1d7 button.colab-df-convert');\n",
              "        buttonEl.style.display =\n",
              "          google.colab.kernel.accessAllowed ? 'block' : 'none';\n",
              "\n",
              "        async function convertToInteractive(key) {\n",
              "          const element = document.querySelector('#df-7f876b08-c086-4333-932f-0ae1a3c5b1d7');\n",
              "          const dataTable =\n",
              "            await google.colab.kernel.invokeFunction('convertToInteractive',\n",
              "                                                     [key], {});\n",
              "          if (!dataTable) return;\n",
              "\n",
              "          const docLinkHtml = 'Like what you see? Visit the ' +\n",
              "            '<a target=\"_blank\" href=https://colab.research.google.com/notebooks/data_table.ipynb>data table notebook</a>'\n",
              "            + ' to learn more about interactive tables.';\n",
              "          element.innerHTML = '';\n",
              "          dataTable['output_type'] = 'display_data';\n",
              "          await google.colab.output.renderOutput(dataTable, element);\n",
              "          const docLink = document.createElement('div');\n",
              "          docLink.innerHTML = docLinkHtml;\n",
              "          element.appendChild(docLink);\n",
              "        }\n",
              "      </script>\n",
              "    </div>\n",
              "  </div>\n",
              "  "
            ]
          },
          "metadata": {},
          "execution_count": 34
        }
      ]
    },
    {
      "cell_type": "code",
      "source": [
        " positif = frame_fit1[1].sum()\n",
        " negatif = frame_fit1[0].sum()\n",
        " netral = frame_fit1[2].sum()\n",
        "\n",
        "print('Positif:', positif)\n",
        "print('Negatif:', negatif)\n",
        "print('Netral:', netral)"
      ],
      "metadata": {
        "colab": {
          "base_uri": "https://localhost:8080/"
        },
        "id": "KMTSzeLHUqDk",
        "outputId": "de19cd59-7bbe-4571-def8-961b8a704e8b"
      },
      "execution_count": 35,
      "outputs": [
        {
          "output_type": "stream",
          "name": "stdout",
          "text": [
            "Positif: 3523.210133629251\n",
            "Negatif: 4794.045800792696\n",
            "Netral: 4292.507571233053\n"
          ]
        }
      ]
    },
    {
      "cell_type": "code",
      "source": [
        "exponen = exp(-9.899384873143688\t)\n",
        "atas1 = 1- (negatif*exponen)\n",
        "hasil_aa = atas1/exponen\n",
        "hasil_aa"
      ],
      "metadata": {
        "colab": {
          "base_uri": "https://localhost:8080/"
        },
        "id": "9-V3NUaHUs9U",
        "outputId": "2acc235e-2a30-49db-8289-12e640a003a8"
      },
      "execution_count": 36,
      "outputs": [
        {
          "output_type": "execute_result",
          "data": {
            "text/plain": [
              "15124.068701189019"
            ]
          },
          "metadata": {},
          "execution_count": 36
        }
      ]
    },
    {
      "cell_type": "code",
      "source": [
        "frame_fit = pd.DataFrame(MNB1.feature_log_prob_.T,\n",
        "                           index = vectorize.get_feature_names(),\n",
        "                           columns= MNB1.classes_)"
      ],
      "metadata": {
        "colab": {
          "base_uri": "https://localhost:8080/"
        },
        "id": "YC27O-MvVB3J",
        "outputId": "251697f9-ceff-4b7e-a3b0-ecfad18b0a4f"
      },
      "execution_count": 38,
      "outputs": [
        {
          "output_type": "stream",
          "name": "stderr",
          "text": [
            "/usr/local/lib/python3.7/dist-packages/sklearn/utils/deprecation.py:87: FutureWarning: Function get_feature_names is deprecated; get_feature_names is deprecated in 1.0 and will be removed in 1.2. Please use get_feature_names_out instead.\n",
            "  warnings.warn(msg, category=FutureWarning)\n"
          ]
        }
      ]
    },
    {
      "cell_type": "code",
      "source": [
        "frame_fit"
      ],
      "metadata": {
        "colab": {
          "base_uri": "https://localhost:8080/",
          "height": 424
        },
        "id": "A_jX03HoUxOx",
        "outputId": "1ccb9ce7-5794-483c-cd45-c6191295f8b4"
      },
      "execution_count": 39,
      "outputs": [
        {
          "output_type": "execute_result",
          "data": {
            "text/plain": [
              "                   0         1         2\n",
              "aa         -9.899385 -9.725618 -9.268146\n",
              "abadi      -9.899385 -8.356928 -9.834366\n",
              "abai       -8.425732 -9.725618 -8.016059\n",
              "abang      -9.289907 -9.116140 -8.872054\n",
              "abas       -9.316337 -9.725618 -9.205920\n",
              "...              ...       ...       ...\n",
              "zonasi     -9.899385 -9.725618 -9.337280\n",
              "zone       -9.899385 -9.151103 -9.834366\n",
              "zsexbwsyvr -9.899385 -9.725618 -9.834366\n",
              "zul        -9.899385 -9.725618 -9.397950\n",
              "zura       -9.899385 -9.725618 -9.309279\n",
              "\n",
              "[7933 rows x 3 columns]"
            ],
            "text/html": [
              "\n",
              "  <div id=\"df-c5e98c27-0b2b-4db5-b351-e8b47e322a4f\">\n",
              "    <div class=\"colab-df-container\">\n",
              "      <div>\n",
              "<style scoped>\n",
              "    .dataframe tbody tr th:only-of-type {\n",
              "        vertical-align: middle;\n",
              "    }\n",
              "\n",
              "    .dataframe tbody tr th {\n",
              "        vertical-align: top;\n",
              "    }\n",
              "\n",
              "    .dataframe thead th {\n",
              "        text-align: right;\n",
              "    }\n",
              "</style>\n",
              "<table border=\"1\" class=\"dataframe\">\n",
              "  <thead>\n",
              "    <tr style=\"text-align: right;\">\n",
              "      <th></th>\n",
              "      <th>0</th>\n",
              "      <th>1</th>\n",
              "      <th>2</th>\n",
              "    </tr>\n",
              "  </thead>\n",
              "  <tbody>\n",
              "    <tr>\n",
              "      <th>aa</th>\n",
              "      <td>-9.899385</td>\n",
              "      <td>-9.725618</td>\n",
              "      <td>-9.268146</td>\n",
              "    </tr>\n",
              "    <tr>\n",
              "      <th>abadi</th>\n",
              "      <td>-9.899385</td>\n",
              "      <td>-8.356928</td>\n",
              "      <td>-9.834366</td>\n",
              "    </tr>\n",
              "    <tr>\n",
              "      <th>abai</th>\n",
              "      <td>-8.425732</td>\n",
              "      <td>-9.725618</td>\n",
              "      <td>-8.016059</td>\n",
              "    </tr>\n",
              "    <tr>\n",
              "      <th>abang</th>\n",
              "      <td>-9.289907</td>\n",
              "      <td>-9.116140</td>\n",
              "      <td>-8.872054</td>\n",
              "    </tr>\n",
              "    <tr>\n",
              "      <th>abas</th>\n",
              "      <td>-9.316337</td>\n",
              "      <td>-9.725618</td>\n",
              "      <td>-9.205920</td>\n",
              "    </tr>\n",
              "    <tr>\n",
              "      <th>...</th>\n",
              "      <td>...</td>\n",
              "      <td>...</td>\n",
              "      <td>...</td>\n",
              "    </tr>\n",
              "    <tr>\n",
              "      <th>zonasi</th>\n",
              "      <td>-9.899385</td>\n",
              "      <td>-9.725618</td>\n",
              "      <td>-9.337280</td>\n",
              "    </tr>\n",
              "    <tr>\n",
              "      <th>zone</th>\n",
              "      <td>-9.899385</td>\n",
              "      <td>-9.151103</td>\n",
              "      <td>-9.834366</td>\n",
              "    </tr>\n",
              "    <tr>\n",
              "      <th>zsexbwsyvr</th>\n",
              "      <td>-9.899385</td>\n",
              "      <td>-9.725618</td>\n",
              "      <td>-9.834366</td>\n",
              "    </tr>\n",
              "    <tr>\n",
              "      <th>zul</th>\n",
              "      <td>-9.899385</td>\n",
              "      <td>-9.725618</td>\n",
              "      <td>-9.397950</td>\n",
              "    </tr>\n",
              "    <tr>\n",
              "      <th>zura</th>\n",
              "      <td>-9.899385</td>\n",
              "      <td>-9.725618</td>\n",
              "      <td>-9.309279</td>\n",
              "    </tr>\n",
              "  </tbody>\n",
              "</table>\n",
              "<p>7933 rows × 3 columns</p>\n",
              "</div>\n",
              "      <button class=\"colab-df-convert\" onclick=\"convertToInteractive('df-c5e98c27-0b2b-4db5-b351-e8b47e322a4f')\"\n",
              "              title=\"Convert this dataframe to an interactive table.\"\n",
              "              style=\"display:none;\">\n",
              "        \n",
              "  <svg xmlns=\"http://www.w3.org/2000/svg\" height=\"24px\"viewBox=\"0 0 24 24\"\n",
              "       width=\"24px\">\n",
              "    <path d=\"M0 0h24v24H0V0z\" fill=\"none\"/>\n",
              "    <path d=\"M18.56 5.44l.94 2.06.94-2.06 2.06-.94-2.06-.94-.94-2.06-.94 2.06-2.06.94zm-11 1L8.5 8.5l.94-2.06 2.06-.94-2.06-.94L8.5 2.5l-.94 2.06-2.06.94zm10 10l.94 2.06.94-2.06 2.06-.94-2.06-.94-.94-2.06-.94 2.06-2.06.94z\"/><path d=\"M17.41 7.96l-1.37-1.37c-.4-.4-.92-.59-1.43-.59-.52 0-1.04.2-1.43.59L10.3 9.45l-7.72 7.72c-.78.78-.78 2.05 0 2.83L4 21.41c.39.39.9.59 1.41.59.51 0 1.02-.2 1.41-.59l7.78-7.78 2.81-2.81c.8-.78.8-2.07 0-2.86zM5.41 20L4 18.59l7.72-7.72 1.47 1.35L5.41 20z\"/>\n",
              "  </svg>\n",
              "      </button>\n",
              "      \n",
              "  <style>\n",
              "    .colab-df-container {\n",
              "      display:flex;\n",
              "      flex-wrap:wrap;\n",
              "      gap: 12px;\n",
              "    }\n",
              "\n",
              "    .colab-df-convert {\n",
              "      background-color: #E8F0FE;\n",
              "      border: none;\n",
              "      border-radius: 50%;\n",
              "      cursor: pointer;\n",
              "      display: none;\n",
              "      fill: #1967D2;\n",
              "      height: 32px;\n",
              "      padding: 0 0 0 0;\n",
              "      width: 32px;\n",
              "    }\n",
              "\n",
              "    .colab-df-convert:hover {\n",
              "      background-color: #E2EBFA;\n",
              "      box-shadow: 0px 1px 2px rgba(60, 64, 67, 0.3), 0px 1px 3px 1px rgba(60, 64, 67, 0.15);\n",
              "      fill: #174EA6;\n",
              "    }\n",
              "\n",
              "    [theme=dark] .colab-df-convert {\n",
              "      background-color: #3B4455;\n",
              "      fill: #D2E3FC;\n",
              "    }\n",
              "\n",
              "    [theme=dark] .colab-df-convert:hover {\n",
              "      background-color: #434B5C;\n",
              "      box-shadow: 0px 1px 3px 1px rgba(0, 0, 0, 0.15);\n",
              "      filter: drop-shadow(0px 1px 2px rgba(0, 0, 0, 0.3));\n",
              "      fill: #FFFFFF;\n",
              "    }\n",
              "  </style>\n",
              "\n",
              "      <script>\n",
              "        const buttonEl =\n",
              "          document.querySelector('#df-c5e98c27-0b2b-4db5-b351-e8b47e322a4f button.colab-df-convert');\n",
              "        buttonEl.style.display =\n",
              "          google.colab.kernel.accessAllowed ? 'block' : 'none';\n",
              "\n",
              "        async function convertToInteractive(key) {\n",
              "          const element = document.querySelector('#df-c5e98c27-0b2b-4db5-b351-e8b47e322a4f');\n",
              "          const dataTable =\n",
              "            await google.colab.kernel.invokeFunction('convertToInteractive',\n",
              "                                                     [key], {});\n",
              "          if (!dataTable) return;\n",
              "\n",
              "          const docLinkHtml = 'Like what you see? Visit the ' +\n",
              "            '<a target=\"_blank\" href=https://colab.research.google.com/notebooks/data_table.ipynb>data table notebook</a>'\n",
              "            + ' to learn more about interactive tables.';\n",
              "          element.innerHTML = '';\n",
              "          dataTable['output_type'] = 'display_data';\n",
              "          await google.colab.output.renderOutput(dataTable, element);\n",
              "          const docLink = document.createElement('div');\n",
              "          docLink.innerHTML = docLinkHtml;\n",
              "          element.appendChild(docLink);\n",
              "        }\n",
              "      </script>\n",
              "    </div>\n",
              "  </div>\n",
              "  "
            ]
          },
          "metadata": {},
          "execution_count": 39
        }
      ]
    },
    {
      "cell_type": "code",
      "source": [
        "hasil2 = Coba.predict(X_test)\n",
        "accuracy_score(Y_test, hasil2)"
      ],
      "metadata": {
        "colab": {
          "base_uri": "https://localhost:8080/"
        },
        "id": "QKDoPKmNVOca",
        "outputId": "dff5e09f-eb31-4141-9766-da5e9fd720d3"
      },
      "execution_count": 41,
      "outputs": [
        {
          "output_type": "execute_result",
          "data": {
            "text/plain": [
              "0.7141216991963261"
            ]
          },
          "metadata": {},
          "execution_count": 41
        }
      ]
    },
    {
      "cell_type": "code",
      "source": [
        "confusion_matrix(Y_test, hasil2)"
      ],
      "metadata": {
        "colab": {
          "base_uri": "https://localhost:8080/"
        },
        "id": "C0WVq4RhVGpM",
        "outputId": "56055b34-0850-4e78-ca39-8b877434c157"
      },
      "execution_count": 42,
      "outputs": [
        {
          "output_type": "execute_result",
          "data": {
            "text/plain": [
              "array([[262,  49,  34],\n",
              "       [ 61, 157,  39],\n",
              "       [ 42,  24, 203]])"
            ]
          },
          "metadata": {},
          "execution_count": 42
        }
      ]
    },
    {
      "cell_type": "code",
      "source": [
        "MNB1.class_count_"
      ],
      "metadata": {
        "colab": {
          "base_uri": "https://localhost:8080/"
        },
        "id": "7ibGq193Vik8",
        "outputId": "f2b309fd-0ede-4385-b301-046e29f1ac78"
      },
      "execution_count": 45,
      "outputs": [
        {
          "output_type": "execute_result",
          "data": {
            "text/plain": [
              "array([1285., 1098., 1100.])"
            ]
          },
          "metadata": {},
          "execution_count": 45
        }
      ]
    }
  ]
}