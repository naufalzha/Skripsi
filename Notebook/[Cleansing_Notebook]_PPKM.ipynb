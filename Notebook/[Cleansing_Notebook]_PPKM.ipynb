{
  "nbformat": 4,
  "nbformat_minor": 0,
  "metadata": {
    "colab": {
      "name": "[Cleansing Notebook] PPKM.ipynb",
      "provenance": []
    },
    "kernelspec": {
      "name": "python3",
      "display_name": "Python 3"
    },
    "language_info": {
      "name": "python"
    }
  },
  "cells": [
    {
      "cell_type": "code",
      "execution_count": 1,
      "metadata": {
        "id": "y-jD4WWjm_ng"
      },
      "outputs": [],
      "source": [
        "#library\n",
        "import string\n",
        "import re\n",
        "import pandas as pd\n",
        "import numpy as np\n",
        "from google.colab import drive\n"
      ]
    },
    {
      "cell_type": "code",
      "source": [
        "#Menyambungkan Ke drive\n",
        "drive.mount('/content/gdrive')"
      ],
      "metadata": {
        "colab": {
          "base_uri": "https://localhost:8080/"
        },
        "id": "IwcdyBtL2hBw",
        "outputId": "10902f94-dc7f-4198-8c81-8b8ac6a957cb"
      },
      "execution_count": 2,
      "outputs": [
        {
          "output_type": "stream",
          "name": "stdout",
          "text": [
            "Mounted at /content/gdrive\n"
          ]
        }
      ]
    },
    {
      "cell_type": "code",
      "source": [
        "## Data PPKM\n",
        "data_ppkm = pd.read_csv('/content/gdrive/MyDrive/Skripsi/Data/gabungan.csv')\n",
        "data_ppkm.head()"
      ],
      "metadata": {
        "colab": {
          "base_uri": "https://localhost:8080/",
          "height": 206
        },
        "id": "of6-x6Jr2sK9",
        "outputId": "d7f73681-3968-4703-c8c8-b19934ec0a25"
      },
      "execution_count": 3,
      "outputs": [
        {
          "output_type": "execute_result",
          "data": {
            "text/plain": [
              "  service        date      time  \\\n",
              "0   blogs  08/03/2021  23:33:00   \n",
              "1   blogs  08/03/2021  23:18:00   \n",
              "2   blogs  08/03/2021  22:51:00   \n",
              "3   blogs  08/03/2021  21:50:00   \n",
              "4   blogs  08/03/2021  21:10:00   \n",
              "\n",
              "                                             message  \n",
              "0  Majalengka, Zonabandung.com,- Untuk meringanka...  \n",
              "1  DJ Dinar Candy menyampaikan komentar terkait a...  \n",
              "2  Pemerintah resmi memperpanjang pemberlakuan pe...  \n",
              "3  Dalam instruksi tersebut, untuk pemberlakuan P...  \n",
              "4  Sebelumnya penerapan PPKM Level 3 juga sudah d...  "
            ],
            "text/html": [
              "\n",
              "  <div id=\"df-1a7260f5-beda-4bfc-a7fa-41f6d7eb0528\">\n",
              "    <div class=\"colab-df-container\">\n",
              "      <div>\n",
              "<style scoped>\n",
              "    .dataframe tbody tr th:only-of-type {\n",
              "        vertical-align: middle;\n",
              "    }\n",
              "\n",
              "    .dataframe tbody tr th {\n",
              "        vertical-align: top;\n",
              "    }\n",
              "\n",
              "    .dataframe thead th {\n",
              "        text-align: right;\n",
              "    }\n",
              "</style>\n",
              "<table border=\"1\" class=\"dataframe\">\n",
              "  <thead>\n",
              "    <tr style=\"text-align: right;\">\n",
              "      <th></th>\n",
              "      <th>service</th>\n",
              "      <th>date</th>\n",
              "      <th>time</th>\n",
              "      <th>message</th>\n",
              "    </tr>\n",
              "  </thead>\n",
              "  <tbody>\n",
              "    <tr>\n",
              "      <th>0</th>\n",
              "      <td>blogs</td>\n",
              "      <td>08/03/2021</td>\n",
              "      <td>23:33:00</td>\n",
              "      <td>Majalengka, Zonabandung.com,- Untuk meringanka...</td>\n",
              "    </tr>\n",
              "    <tr>\n",
              "      <th>1</th>\n",
              "      <td>blogs</td>\n",
              "      <td>08/03/2021</td>\n",
              "      <td>23:18:00</td>\n",
              "      <td>DJ Dinar Candy menyampaikan komentar terkait a...</td>\n",
              "    </tr>\n",
              "    <tr>\n",
              "      <th>2</th>\n",
              "      <td>blogs</td>\n",
              "      <td>08/03/2021</td>\n",
              "      <td>22:51:00</td>\n",
              "      <td>Pemerintah resmi memperpanjang pemberlakuan pe...</td>\n",
              "    </tr>\n",
              "    <tr>\n",
              "      <th>3</th>\n",
              "      <td>blogs</td>\n",
              "      <td>08/03/2021</td>\n",
              "      <td>21:50:00</td>\n",
              "      <td>Dalam instruksi tersebut, untuk pemberlakuan P...</td>\n",
              "    </tr>\n",
              "    <tr>\n",
              "      <th>4</th>\n",
              "      <td>blogs</td>\n",
              "      <td>08/03/2021</td>\n",
              "      <td>21:10:00</td>\n",
              "      <td>Sebelumnya penerapan PPKM Level 3 juga sudah d...</td>\n",
              "    </tr>\n",
              "  </tbody>\n",
              "</table>\n",
              "</div>\n",
              "      <button class=\"colab-df-convert\" onclick=\"convertToInteractive('df-1a7260f5-beda-4bfc-a7fa-41f6d7eb0528')\"\n",
              "              title=\"Convert this dataframe to an interactive table.\"\n",
              "              style=\"display:none;\">\n",
              "        \n",
              "  <svg xmlns=\"http://www.w3.org/2000/svg\" height=\"24px\"viewBox=\"0 0 24 24\"\n",
              "       width=\"24px\">\n",
              "    <path d=\"M0 0h24v24H0V0z\" fill=\"none\"/>\n",
              "    <path d=\"M18.56 5.44l.94 2.06.94-2.06 2.06-.94-2.06-.94-.94-2.06-.94 2.06-2.06.94zm-11 1L8.5 8.5l.94-2.06 2.06-.94-2.06-.94L8.5 2.5l-.94 2.06-2.06.94zm10 10l.94 2.06.94-2.06 2.06-.94-2.06-.94-.94-2.06-.94 2.06-2.06.94z\"/><path d=\"M17.41 7.96l-1.37-1.37c-.4-.4-.92-.59-1.43-.59-.52 0-1.04.2-1.43.59L10.3 9.45l-7.72 7.72c-.78.78-.78 2.05 0 2.83L4 21.41c.39.39.9.59 1.41.59.51 0 1.02-.2 1.41-.59l7.78-7.78 2.81-2.81c.8-.78.8-2.07 0-2.86zM5.41 20L4 18.59l7.72-7.72 1.47 1.35L5.41 20z\"/>\n",
              "  </svg>\n",
              "      </button>\n",
              "      \n",
              "  <style>\n",
              "    .colab-df-container {\n",
              "      display:flex;\n",
              "      flex-wrap:wrap;\n",
              "      gap: 12px;\n",
              "    }\n",
              "\n",
              "    .colab-df-convert {\n",
              "      background-color: #E8F0FE;\n",
              "      border: none;\n",
              "      border-radius: 50%;\n",
              "      cursor: pointer;\n",
              "      display: none;\n",
              "      fill: #1967D2;\n",
              "      height: 32px;\n",
              "      padding: 0 0 0 0;\n",
              "      width: 32px;\n",
              "    }\n",
              "\n",
              "    .colab-df-convert:hover {\n",
              "      background-color: #E2EBFA;\n",
              "      box-shadow: 0px 1px 2px rgba(60, 64, 67, 0.3), 0px 1px 3px 1px rgba(60, 64, 67, 0.15);\n",
              "      fill: #174EA6;\n",
              "    }\n",
              "\n",
              "    [theme=dark] .colab-df-convert {\n",
              "      background-color: #3B4455;\n",
              "      fill: #D2E3FC;\n",
              "    }\n",
              "\n",
              "    [theme=dark] .colab-df-convert:hover {\n",
              "      background-color: #434B5C;\n",
              "      box-shadow: 0px 1px 3px 1px rgba(0, 0, 0, 0.15);\n",
              "      filter: drop-shadow(0px 1px 2px rgba(0, 0, 0, 0.3));\n",
              "      fill: #FFFFFF;\n",
              "    }\n",
              "  </style>\n",
              "\n",
              "      <script>\n",
              "        const buttonEl =\n",
              "          document.querySelector('#df-1a7260f5-beda-4bfc-a7fa-41f6d7eb0528 button.colab-df-convert');\n",
              "        buttonEl.style.display =\n",
              "          google.colab.kernel.accessAllowed ? 'block' : 'none';\n",
              "\n",
              "        async function convertToInteractive(key) {\n",
              "          const element = document.querySelector('#df-1a7260f5-beda-4bfc-a7fa-41f6d7eb0528');\n",
              "          const dataTable =\n",
              "            await google.colab.kernel.invokeFunction('convertToInteractive',\n",
              "                                                     [key], {});\n",
              "          if (!dataTable) return;\n",
              "\n",
              "          const docLinkHtml = 'Like what you see? Visit the ' +\n",
              "            '<a target=\"_blank\" href=https://colab.research.google.com/notebooks/data_table.ipynb>data table notebook</a>'\n",
              "            + ' to learn more about interactive tables.';\n",
              "          element.innerHTML = '';\n",
              "          dataTable['output_type'] = 'display_data';\n",
              "          await google.colab.output.renderOutput(dataTable, element);\n",
              "          const docLink = document.createElement('div');\n",
              "          docLink.innerHTML = docLinkHtml;\n",
              "          element.appendChild(docLink);\n",
              "        }\n",
              "      </script>\n",
              "    </div>\n",
              "  </div>\n",
              "  "
            ]
          },
          "metadata": {},
          "execution_count": 3
        }
      ]
    },
    {
      "cell_type": "code",
      "source": [
        "data_ppkm.shape"
      ],
      "metadata": {
        "colab": {
          "base_uri": "https://localhost:8080/"
        },
        "id": "-lvI_aK22vL2",
        "outputId": "051d28a7-1efb-41e5-8e8e-3ea49c58eb17"
      },
      "execution_count": 4,
      "outputs": [
        {
          "output_type": "execute_result",
          "data": {
            "text/plain": [
              "(2506835, 4)"
            ]
          },
          "metadata": {},
          "execution_count": 4
        }
      ]
    },
    {
      "cell_type": "code",
      "source": [
        "data_ppkm.groupby(['service'])['message'].count()"
      ],
      "metadata": {
        "colab": {
          "base_uri": "https://localhost:8080/"
        },
        "id": "crfEJncf211r",
        "outputId": "d7049576-0709-4a68-8e24-662e9d231b6c"
      },
      "execution_count": 5,
      "outputs": [
        {
          "output_type": "execute_result",
          "data": {
            "text/plain": [
              "service\n",
              "blogs          12651\n",
              "facebook           2\n",
              "instagram     571538\n",
              "news           90670\n",
              "twitter      1725627\n",
              "youtube       106347\n",
              "Name: message, dtype: int64"
            ]
          },
          "metadata": {},
          "execution_count": 5
        }
      ]
    },
    {
      "cell_type": "code",
      "source": [
        "## Data Twitter\n",
        "data_twitter = data_ppkm.loc[ lambda data_twitter : data_twitter['service'] == 'twitter']\n",
        "print(data_twitter.head())\n",
        "print(data_twitter.shape)"
      ],
      "metadata": {
        "colab": {
          "base_uri": "https://localhost:8080/"
        },
        "id": "AQgpE6Tf290_",
        "outputId": "97600876-b3d6-4395-f8ad-48c4d57212a0"
      },
      "execution_count": 6,
      "outputs": [
        {
          "output_type": "stream",
          "name": "stdout",
          "text": [
            "       service        date      time  \\\n",
            "31291  twitter  08/03/2021  23:59:00   \n",
            "31292  twitter  08/03/2021  23:57:00   \n",
            "31293  twitter  08/03/2021  23:57:00   \n",
            "31294  twitter  08/03/2021  23:57:00   \n",
            "31295  twitter  08/03/2021  23:56:00   \n",
            "\n",
            "                                                 message  \n",
            "31291  RT @_pln_id:Abang lagi memelihara Isolator SUT...  \n",
            "31292  @Askrlfess Semuanya di potong, bahkan bansos s...  \n",
            "31293  RT @KakekHalal:PPKM mereka ribut\\nVaksin merek...  \n",
            "31294  paling benci laper tengah malam di masa ppkm. ...  \n",
            "31295  RT @ABSetyono:PPKM LEVEL 4 DIPERPANJANG,MENKOM...  \n",
            "(1725627, 4)\n"
          ]
        }
      ]
    },
    {
      "cell_type": "code",
      "source": [
        "#Mengurutkan Data dan Menghapus duplikasi\n",
        "data_awal = data_twitter.drop_duplicates(subset='message').sort_values(by='date', ascending=False)\n",
        "print(data_awal.shape)"
      ],
      "metadata": {
        "colab": {
          "base_uri": "https://localhost:8080/"
        },
        "id": "m-dvPPfQ3Bol",
        "outputId": "2730ecd9-ecf1-464b-e637-9f024f6e3b27"
      },
      "execution_count": 7,
      "outputs": [
        {
          "output_type": "stream",
          "name": "stdout",
          "text": [
            "(1050244, 4)\n"
          ]
        }
      ]
    },
    {
      "cell_type": "code",
      "source": [
        "##SEED\n",
        "SEED = 2022"
      ],
      "metadata": {
        "id": "taOEmgPg3MbO"
      },
      "execution_count": 8,
      "outputs": []
    },
    {
      "cell_type": "code",
      "source": [
        "## Sampling \n",
        "data_input = data_twitter.sample(n=5000, random_state = SEED)\n",
        "data_input.shape\n",
        "data_input.to_csv('data_label.csv', index = False)"
      ],
      "metadata": {
        "id": "LqTJ8f8U3S0n"
      },
      "execution_count": 9,
      "outputs": []
    }
  ]
}